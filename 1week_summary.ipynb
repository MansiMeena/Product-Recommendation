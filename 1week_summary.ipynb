{
 "cells": [
  {
   "cell_type": "code",
   "execution_count": 1,
   "metadata": {
    "collapsed": true
   },
   "outputs": [],
   "source": [
    "import pandas as pd\n",
    "import seaborn as sns\n",
    "import numpy as np\n",
    "import matplotlib.pyplot as plt\n",
    "import time\n",
    "import sklearn\n",
    "from sklearn.preprocessing import LabelEncoder\n",
    "\n",
    "\n",
    "%matplotlib inline\n",
    "%config InlineBackend.figure_format = 'png'"
   ]
  },
  {
   "cell_type": "code",
   "execution_count": 2,
   "metadata": {
    "collapsed": false
   },
   "outputs": [
    {
     "name": "stderr",
     "output_type": "stream",
     "text": [
      "<string>:2: DtypeWarning: Columns (5,8,11,15) have mixed types. Specify dtype option on import or set low_memory=False.\n"
     ]
    },
    {
     "name": "stdout",
     "output_type": "stream",
     "text": [
      "Wall time: 2min 21s\n"
     ]
    }
   ],
   "source": [
    "%%time\n",
    "# load data\n",
    "labels = pd.read_csv('../input/labels.csv').astype(int)\n",
    "trn = pd.read_csv('../input/train_ver2.csv')\n",
    "fecha_dato = trn['fecha_dato']\n",
    "\n",
    "# get index\n",
    "train_index = (labels[fecha_dato == '2015-06-28'].sum(axis=1) > 0)\n",
    "train_index = train_index[train_index == True]\n",
    "\n",
    "# trim train data and save\n",
    "train = trn.ix[train_index.index]\n",
    "train.iloc[:,24:] = labels.ix[train_index.index]\n",
    "\n",
    "# melt data into single target dataframe\n",
    "data = []\n",
    "for ind, (run, row) in enumerate(train.iterrows()):\n",
    "    for i in range(24):\n",
    "        if row[24+i] == 1:\n",
    "            temp = row[:24].values.tolist()\n",
    "            temp.append(i)\n",
    "            data.append(temp)\n",
    "            \n",
    "cols = trn.columns[:24].tolist()\n",
    "cols.append('target')\n",
    "train = pd.DataFrame(data, columns = cols)\n",
    "train.to_csv('../input/train.csv',index=False)\n"
   ]
  },
  {
   "cell_type": "markdown",
   "metadata": {},
   "source": [
    "### 컬럼 이름 출력을 하고싶은 경우 df.columns\n",
    "### 컬럼 개수 출력을 하고싶은 경우 len(df.columns)"
   ]
  },
  {
   "cell_type": "code",
   "execution_count": 3,
   "metadata": {
    "collapsed": false,
    "scrolled": true
   },
   "outputs": [
    {
     "name": "stdout",
     "output_type": "stream",
     "text": [
      "Index(['fecha_dato', 'ncodpers', 'ind_empleado', 'pais_residencia', 'sexo',\n",
      "       'age', 'fecha_alta', 'ind_nuevo', 'antiguedad', 'indrel',\n",
      "       'ult_fec_cli_1t', 'indrel_1mes', 'tiprel_1mes', 'indresi', 'indext',\n",
      "       'conyuemp', 'canal_entrada', 'indfall', 'tipodom', 'cod_prov',\n",
      "       'nomprov', 'ind_actividad_cliente', 'renta', 'segmento',\n",
      "       'ind_ahor_fin_ult1', 'ind_aval_fin_ult1', 'ind_cco_fin_ult1',\n",
      "       'ind_cder_fin_ult1', 'ind_cno_fin_ult1', 'ind_ctju_fin_ult1',\n",
      "       'ind_ctma_fin_ult1', 'ind_ctop_fin_ult1', 'ind_ctpp_fin_ult1',\n",
      "       'ind_deco_fin_ult1', 'ind_deme_fin_ult1', 'ind_dela_fin_ult1',\n",
      "       'ind_ecue_fin_ult1', 'ind_fond_fin_ult1', 'ind_hip_fin_ult1',\n",
      "       'ind_plan_fin_ult1', 'ind_pres_fin_ult1', 'ind_reca_fin_ult1',\n",
      "       'ind_tjcr_fin_ult1', 'ind_valo_fin_ult1', 'ind_viv_fin_ult1',\n",
      "       'ind_nomina_ult1', 'ind_nom_pens_ult1', 'ind_recibo_ult1'],\n",
      "      dtype='object')\n",
      "48\n"
     ]
    }
   ],
   "source": [
    "print(trn.columns)\n",
    "print(len(trn.columns))"
   ]
  },
  {
   "cell_type": "markdown",
   "metadata": {},
   "source": [
    "### 고유한 값이 어떻게 되는지 알고 싶다면\n",
    "\n",
    "\n",
    "np.unique(df[col].astype(str))\n",
    "\n",
    "col값을 변수로 두고 for문을 돌리면 됩니다-!"
   ]
  },
  {
   "cell_type": "code",
   "execution_count": 6,
   "metadata": {
    "collapsed": false,
    "scrolled": true
   },
   "outputs": [
    {
     "data": {
      "text/plain": [
       "array(['H', 'V', 'nan'], dtype=object)"
      ]
     },
     "execution_count": 6,
     "metadata": {},
     "output_type": "execute_result"
    }
   ],
   "source": [
    "np.unique(trn[\"sexo\"].astype(str))"
   ]
  },
  {
   "cell_type": "markdown",
   "metadata": {},
   "source": [
    "### 그래프를 그릴 때 도화지를 어떻게 그릴것인가-!!1\n",
    "\n",
    "plt.subplots(figsize=(10,5))\n",
    "\n",
    "f => figure\n",
    "\n",
    "ax => axes\n",
    "\n",
    "\n",
    "countplot : 카테고리의 데이터 갯수를 시각화\n",
    "\n",
    "barplot : 막대 그래프\n",
    "\n",
    "jointplot : 두 변수의 관계를 나타내는 그래프 kind에 따라 다름\n"
   ]
  },
  {
   "cell_type": "code",
   "execution_count": 14,
   "metadata": {
    "collapsed": false
   },
   "outputs": [
    {
     "data": {
      "image/png": "[encoded data removed]",
      "text/plain": [
       "<matplotlib.figure.Figure at 0x26499445b70>"
      ]
     },
     "metadata": {},
     "output_type": "display_data"
    }
   ],
   "source": [
    "f, ax = plt.subplots(figsize=(10, 5))"
   ]
  },
  {
   "cell_type": "code",
   "execution_count": 15,
   "metadata": {
    "collapsed": false,
    "scrolled": true
   },
   "outputs": [
    {
     "data": {
      "image/png": "[encoded data removed]",
      "text/plain": [
       "<matplotlib.figure.Figure at 0x2649903f550>"
      ]
     },
     "metadata": {},
     "output_type": "display_data"
    }
   ],
   "source": [
    "sns.countplot(x=trn[\"fecha_dato\"], data=trn, alpha=0.5)\n",
    "plt.show()"
   ]
  },
  {
   "cell_type": "markdown",
   "metadata": {},
   "source": [
    "### 특정 값의 개수를 새고 싶다면..!! \n",
    "\n",
    "trn[col].value_counts()\n",
    "\n",
    "http://pandas.pydata.org/pandas-docs/stable/generated/pandas.Series.value_counts.html"
   ]
  },
  {
   "cell_type": "code",
   "execution_count": 28,
   "metadata": {
    "collapsed": false,
    "scrolled": true
   },
   "outputs": [
    {
     "data": {
      "text/plain": [
       "2016-05-28    931453\n",
       "2016-04-28    928274\n",
       "2016-03-28    925076\n",
       "2016-02-28    920904\n",
       "2016-01-28    916269\n",
       "2015-12-28    912021\n",
       "2015-11-28    906109\n",
       "2015-10-28    892251\n",
       "2015-09-28    865440\n",
       "2015-08-28    843201\n",
       "2015-07-28    829817\n",
       "2015-06-28    632110\n",
       "2015-05-28    631957\n",
       "2015-04-28    630367\n",
       "2015-03-28    629209\n",
       "2015-02-28    627394\n",
       "2015-01-28    625457\n",
       "Name: fecha_dato, dtype: int64"
      ]
     },
     "execution_count": 28,
     "metadata": {},
     "output_type": "execute_result"
    }
   ],
   "source": [
    "trn[\"fecha_dato\"].value_counts()"
   ]
  },
  {
   "cell_type": "markdown",
   "metadata": {},
   "source": [
    "### 숫자가 문자로 되어있는 경우, 공백을 제거하는 테크닉\n",
    "\n",
    "int()로 표현하면 모두 사라짐-!"
   ]
  },
  {
   "cell_type": "code",
   "execution_count": 29,
   "metadata": {
    "collapsed": true
   },
   "outputs": [],
   "source": [
    "aaaaa = \"   2   \""
   ]
  },
  {
   "cell_type": "code",
   "execution_count": 30,
   "metadata": {
    "collapsed": false
   },
   "outputs": [
    {
     "data": {
      "text/plain": [
       "2"
      ]
     },
     "execution_count": 30,
     "metadata": {},
     "output_type": "execute_result"
    }
   ],
   "source": [
    "int(aaaaa) "
   ]
  },
  {
   "cell_type": "markdown",
   "metadata": {},
   "source": [
    "### 전처리\n",
    "\n",
    "df[col].replace(\"NA\", 0, inplace=True) => NA값을 0으로 바꾼 후,\n",
    "\n",
    "df[col] = df[col]].astype(int) => int화 시킨후 다시 넣기!"
   ]
  },
  {
   "cell_type": "code",
   "execution_count": null,
   "metadata": {
    "collapsed": true
   },
   "outputs": [],
   "source": [
    "train_data[col].replace(' NA',0,inplace=True)\n",
    "train_data[col] = train_data[col].astype(int)"
   ]
  },
  {
   "cell_type": "markdown",
   "metadata": {},
   "source": [
    "### tolist() \n",
    "\n",
    "=> list로 나오느냐 array로 나오느냐..!!!"
   ]
  },
  {
   "cell_type": "code",
   "execution_count": 33,
   "metadata": {
    "collapsed": false
   },
   "outputs": [
    {
     "data": {
      "text/plain": [
       "['H', 'V', 'nan']"
      ]
     },
     "execution_count": 33,
     "metadata": {},
     "output_type": "execute_result"
    }
   ],
   "source": [
    "np.unique(trn[\"sexo\"].astype(str)).tolist()"
   ]
  },
  {
   "cell_type": "code",
   "execution_count": 34,
   "metadata": {
    "collapsed": false
   },
   "outputs": [
    {
     "data": {
      "text/plain": [
       "array(['H', 'V', 'nan'], dtype=object)"
      ]
     },
     "execution_count": 34,
     "metadata": {},
     "output_type": "execute_result"
    }
   ],
   "source": [
    "np.unique(trn[\"sexo\"].astype(str))"
   ]
  },
  {
   "cell_type": "code",
   "execution_count": 35,
   "metadata": {
    "collapsed": false,
    "scrolled": true
   },
   "outputs": [
    {
     "data": {
      "text/plain": [
       "fecha_dato\n",
       "2015-01-28     95601\n",
       "2015-02-28     94543\n",
       "2015-03-28     97211\n",
       "2015-04-28     98312\n",
       "2015-05-28     96487\n",
       "2015-06-28     98655\n",
       "2015-07-28     99981\n",
       "2015-08-28     96045\n",
       "2015-09-28    100726\n",
       "2015-10-28    104427\n",
       "2015-11-28    104990\n",
       "2015-12-28    107320\n",
       "2016-01-28    107033\n",
       "2016-02-28    108668\n",
       "2016-03-28    110915\n",
       "2016-04-28    111748\n",
       "2016-05-28    113050\n",
       "Name: ind_recibo_ult1, dtype: int64"
      ]
     },
     "execution_count": 35,
     "metadata": {},
     "output_type": "execute_result"
    }
   ],
   "source": [
    "label_cols = trn.columns[24:] .tolist()\n",
    "trn.groupby(['fecha_dato'])[label_cols[i]].agg('sum')"
   ]
  },
  {
   "cell_type": "code",
   "execution_count": 36,
   "metadata": {
    "collapsed": false
   },
   "outputs": [
    {
     "data": {
      "text/plain": [
       "['ind_ahor_fin_ult1',\n",
       " 'ind_aval_fin_ult1',\n",
       " 'ind_cco_fin_ult1',\n",
       " 'ind_cder_fin_ult1',\n",
       " 'ind_cno_fin_ult1',\n",
       " 'ind_ctju_fin_ult1',\n",
       " 'ind_ctma_fin_ult1',\n",
       " 'ind_ctop_fin_ult1',\n",
       " 'ind_ctpp_fin_ult1',\n",
       " 'ind_deco_fin_ult1',\n",
       " 'ind_deme_fin_ult1',\n",
       " 'ind_dela_fin_ult1',\n",
       " 'ind_ecue_fin_ult1',\n",
       " 'ind_fond_fin_ult1',\n",
       " 'ind_hip_fin_ult1',\n",
       " 'ind_plan_fin_ult1',\n",
       " 'ind_pres_fin_ult1',\n",
       " 'ind_reca_fin_ult1',\n",
       " 'ind_tjcr_fin_ult1',\n",
       " 'ind_valo_fin_ult1',\n",
       " 'ind_viv_fin_ult1',\n",
       " 'ind_nomina_ult1',\n",
       " 'ind_nom_pens_ult1',\n",
       " 'ind_recibo_ult1']"
      ]
     },
     "execution_count": 36,
     "metadata": {},
     "output_type": "execute_result"
    }
   ],
   "source": [
    "label_cols"
   ]
  },
  {
   "cell_type": "code",
   "execution_count": 44,
   "metadata": {
    "collapsed": true
   },
   "outputs": [],
   "source": [
    "# np.asarray\n",
    "\n",
    "# Convert the input to an array.\n",
    "\n",
    "# Parameters\n",
    "# ----------\n",
    "# a : array_like\n",
    "#     Input data, in any form that can be converted to an array.  This\n",
    "#     includes lists, lists of tuples, tuples, tuples of tuples, tuples\n",
    "#     of lists and ndarrays.\n",
    "# dtype : data-type, optional\n",
    "#     By default, the data-type is inferred from the input data.\n",
    "# order : {'C', 'F'}, optional\n",
    "#     Whether to use row-major (C-style) or\n",
    "#     column-major (Fortran-style) memory representation.\n",
    "#     Defaults to 'C'.\n",
    "\n",
    "# Returns\n",
    "# -------\n",
    "# out : ndarray\n",
    "#     Array interpretation of `a`.  No copy is performed if the input\n",
    "#     is already an ndarray.  If `a` is a subclass of ndarray, a base\n",
    "#     class ndarray is returned.\n",
    "\n",
    "# See Also\n",
    "# --------\n",
    "# asanyarray : Similar function which passes through subclasses.\n",
    "# ascontiguousarray : Convert input to a contiguous array.\n",
    "# asfarray : Convert input to a floating point ndarray.\n",
    "# asfortranarray : Convert input to an ndarray with column-major\n",
    "#                  memory order.\n",
    "# asarray_chkfinite : Similar function which checks input for NaNs and Infs.\n",
    "# fromiter : Create an array from an iterator.\n",
    "# fromfunction : Construct an array by executing a function on grid\n",
    "#                positions.\n",
    "\n",
    "# Examples\n",
    "# --------\n",
    "# Convert a list into an array:\n",
    "\n",
    "# >>> a = [1, 2]\n",
    "# >>> np.asarray(a)\n",
    "# array([1, 2])\n",
    "\n",
    "# Existing arrays are not copied:\n",
    "\n",
    "# >>> a = np.array([1, 2])\n",
    "# >>> np.asarray(a) is a\n",
    "# True\n",
    "\n",
    "# If `dtype` is set, array is copied only if dtype does not match:\n",
    "\n",
    "# >>> a = np.array([1, 2], dtype=np.float32)\n",
    "# >>> np.asarray(a, dtype=np.float32) is a\n",
    "# True\n",
    "# >>> np.asarray(a, dtype=np.float64) is a\n",
    "# False\n",
    "\n",
    "# Contrary to `asanyarray`, ndarray subclasses are not passed through:\n",
    "\n",
    "# >>> issubclass(np.matrix, np.ndarray)\n",
    "# True\n",
    "# >>> a = np.matrix([[1, 2]])\n",
    "# >>> np.asarray(a) is a\n",
    "# False\n",
    "# >>> np.asanyarray(a) is a\n",
    "# True\n"
   ]
  },
  {
   "cell_type": "markdown",
   "metadata": {},
   "source": [
    "### 파이썬 pandas DataFrame의 iloc, loc, ix의 차이\n",
    "\n",
    ".iloc\n",
    "\n",
    "integer positon를 통해 값을 찾을 수 있다. label로는 찾을 수 없다\n",
    "\n",
    ".loc\n",
    "\n",
    "label 을 통해 값을 찾을 수 있다. integer position로는 찾을 수 없다.\n",
    "\n",
    ".ix\n",
    "\n",
    "integer position과 label모두 사용 할 수 있다. 만약 label이 숫자라면 label-based index만 된다.\n",
    "\n",
    "\n",
    "http://yeyej.blogspot.kr/2016/02/pandas-dataframe-iloc-loc-ix.html\n"
   ]
  },
  {
   "cell_type": "code",
   "execution_count": 45,
   "metadata": {
    "collapsed": true
   },
   "outputs": [],
   "source": [
    "# data = []\n",
    "# for ind, (run, row) in enumerate(train.iterrows()):\n",
    "#     for i in range(24):\n",
    "#         if row[24+i] == 1:\n",
    "#             temp = row[:24].values.tolist()\n",
    "#             temp.append(i)\n",
    "#             data.append(temp)\n"
   ]
  },
  {
   "cell_type": "markdown",
   "metadata": {},
   "source": [
    "### Label encoding\n",
    "\n",
    "lb = LabelEncoder()\n",
    "\n",
    "lb.fit_transform(data) "
   ]
  },
  {
   "cell_type": "code",
   "execution_count": null,
   "metadata": {
    "collapsed": true
   },
   "outputs": [],
   "source": [
    "# lb = LabelEncoder()\n",
    "# skip_cols = ['fecha_dato','ncodpers','target']\n",
    "# # histogram of features\n",
    "# for col in trn.columns:\n",
    "#     if col in skip_cols:\n",
    "#         continue\n",
    "#     print('='*50)\n",
    "#     print('col : ', col)\n",
    "\n",
    "#     # check category or number\n",
    "#     if col in category_cols:\n",
    "#         x = lb.fit_transform(trn[col])\n",
    "#         sns.jointplot(x,np.asarray(trn['target'])*1.0, kind=\"kde\")\n",
    "#     else:\n",
    "#         x = trn[col]\n",
    "#         sns.jointplot(x,trn['target'], kind=\"kde\")\n",
    "#     plt.show()\n"
   ]
  }
 ],
 "metadata": {
  "kernelspec": {
   "display_name": "Python 3",
   "language": "python",
   "name": "python3"
  },
  "language_info": {
   "codemirror_mode": {
    "name": "ipython",
    "version": 3
   },
   "file_extension": ".py",
   "mimetype": "text/x-python",
   "name": "python",
   "nbconvert_exporter": "python",
   "pygments_lexer": "ipython3",
   "version": "3.5.1"
  }
 },
 "nbformat": 4,
 "nbformat_minor": 0
}
